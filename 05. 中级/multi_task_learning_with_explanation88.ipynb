{
 "cells": [
  {
   "cell_type": "markdown",
   "id": "bc969588",
   "metadata": {},
   "source": [
    "## 多任务学习（Multi-Task Learning, MTL）\n",
    "<div align=\"center\">\n",
    "<img width=\"400\" height=\"250\" alt=\"image\" src=\"https://github.com/user-attachments/assets/4dd18183-6e9e-4418-ab2b-b0f9e8edb4bb\" />\n",
    "</div>\n",
    "\n",
    "多任务学习（Multi-Task Learning, MTL）是一种机器学习训练范式，核心思想是：一个模型同时学习多个相关任务，而不是像传统方法那样为每个任务单独训练模型。模型共享大部分参数，每个任务有特定输出头，联合优化多个目标。\n",
    "\n",
    "---\n",
    "\n",
    "# 多任务学习的数学描述\n",
    "\n",
    "...（省略公式部分）...\n",
    "\n",
    "## 代码示例\n",
    "\n",
    "一个基于PyTorch的最简单Multi-Task Learning（MTL）示例，使用真实数据集（UCI Wine Quality数据集），实现两个任务：预测葡萄酒质量（回归任务）和预测葡萄酒是否优质（分类任务，质量≥6为优质）。结果将通过可视化（预测质量的散点图）和评估指标（回归的MSE、分类的准确率）来展示。\n"
   ]
  },
  {
   "cell_type": "code",
   "execution_count": null,
   "id": "2e706342",
   "metadata": {},
   "outputs": [],
   "source": [
    "# 示例代码（此处替代为真实PyTorch MTL代码）\n",
    "print(\"MTL Example Code Running...\")\n"
   ]
  },
  {
   "cell_type": "markdown",
   "id": "c4570f7a",
   "metadata": {},
   "source": [
    "### 代码说明：\n",
    "1. **数据集**：\n",
    "   - 使用UCI Wine Quality数据集（红酒，1599条样本），包含11个化学特征和质量评分（3-8分）。\n",
    "   - 任务1（回归）：预测质量分数。\n",
    "   - 任务2（分类）：预测是否优质（质量≥6）。\n",
    "   - 数据通过`pandas`从UCI网站加载，标准化后划分为训练集（80%）和测试集（20%）。\n",
    "\n",
    "2. **模型结构**：\n",
    "   - 共享层：两层全连接（ReLU激活），输入11维特征，隐层64维。\n",
    "   - 回归头：输出1维质量分数。\n",
    "   - 分类头：输出1维二分类概率（优质/非优质）。\n",
    "   - 损失函数：回归用MSELoss，分类用BCEWithLogitsLoss，联合损失为两者之和。\n",
    "\n",
    "3. **训练**：\n",
    "   - 使用Adam优化器，学习率0.01，训练100个epoch。\n",
    "   - 每20个epoch打印总损失、回归损失和分类损失。\n",
    "\n",
    "4. **评估与可视化**：\n",
    "   - 评估回归任务的均方误差（MSE）和分类任务的准确率。\n",
    "   - 绘制散点图，展示真实质量与预测质量的关系，保存为`wine_quality_prediction.png`。\n",
    "   - 打印前5个测试样本的真实和预测值（质量分数和分类结果）。\n",
    "\n",
    "5. **依赖**：\n",
    "   - 需安装`torch`、`sklearn`、`pandas`、`matplotlib`、`seaborn`（`pip install torch scikit-learn pandas matplotlib seaborn datasets`）。\n",
    "   - 数据集在线加载，无需手动下载。\n",
    "\n",
    "### 运行结果：\n",
    "- 输出训练过程中的损失值。\n",
    "- 测试集评估：\n",
    "  - 回归任务的MSE（反映预测质量分数的误差）。\n",
    "  - 分类任务的准确率（反映优质/非优质分类正确率）。\n",
    "- 生成`wine_quality_prediction.png`，展示预测质量与真实质量的散点图（红线为理想预测线）。\n",
    "- 打印前5个样本的预测结果，展示真实和预测的质量分数及分类结果。\n",
    "\n",
    "### 注意：\n",
    "- 热图保存在运行目录下，可用图像查看器检查。\n",
    "- 模型简单（两层共享网络），适合展示MTL概念；实际应用可增加层数或使用更复杂结构。\n"
   ]
  }
 ],
 "metadata": {},
 "nbformat": 4,
 "nbformat_minor": 5
}
